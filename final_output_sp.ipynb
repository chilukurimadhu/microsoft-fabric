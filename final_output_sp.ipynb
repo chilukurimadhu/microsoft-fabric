{
 "cells": [
  {
   "cell_type": "code",
   "execution_count": null,
   "id": "5040c9a1-ca9a-42a7-a2e7-76b3881a85a6",
   "metadata": {
    "jupyter": {
     "outputs_hidden": false,
     "source_hidden": false
    },
    "microsoft": {
     "language": "python",
     "language_group": "synapse_pyspark"
    },
    "nteract": {
     "transient": {
      "deleting": false
     }
    }
   },
   "outputs": [],
   "source": [
    "%run \\common_functions"
   ]
  },
  {
   "cell_type": "code",
   "execution_count": null,
   "id": "fe47977e-2375-412c-a37e-3a5e7bd97d6c",
   "metadata": {
    "microsoft": {
     "language": "python",
     "language_group": "synapse_pyspark"
    }
   },
   "outputs": [],
   "source": [
    "import pandas as pd\n",
    "from datetime import datetime\n",
    "\n",
    "\n"
   ]
  },
  {
   "cell_type": "code",
   "execution_count": null,
   "id": "e12e7af6-b1ab-48dd-9417-7bb3689d6a33",
   "metadata": {
    "jupyter": {
     "outputs_hidden": false,
     "source_hidden": false
    },
    "microsoft": {
     "language": "python",
     "language_group": "synapse_pyspark"
    },
    "nteract": {
     "transient": {
      "deleting": false
     }
    }
   },
   "outputs": [],
   "source": [
    "path = r\"https://*********.sharepoint.com/sites/fabricdemo\"\n",
    "file_path_consolidated = file_path_sku = file_path_output = path"
   ]
  },
  {
   "cell_type": "code",
   "execution_count": null,
   "id": "d8ebe723-caa9-44ae-b724-536fa4557888",
   "metadata": {
    "jupyter": {
     "outputs_hidden": false,
     "source_hidden": false
    },
    "microsoft": {
     "language": "python",
     "language_group": "synapse_pyspark"
    },
    "nteract": {
     "transient": {
      "deleting": false
     }
    }
   },
   "outputs": [],
   "source": [
    "site_url=\"https://fintexinc.sharepoint.com/sites/fabricdemo\"\n",
    "document_library=\"Shared Documents\"\n",
    "folder_url=\"/sites/fabricdemo/Shared Documents\"\n",
    "logic=\"write_to_sharepoint\"\n",
    "file_url=\"/sites/fabricdemo/Shared Documents\"\n",
    "common_substring = \"Long Term\""
   ]
  },
  {
   "cell_type": "code",
   "execution_count": null,
   "id": "39eb3516-4156-4fe1-b83b-a697125f9fa9",
   "metadata": {
    "jupyter": {
     "outputs_hidden": false,
     "source_hidden": false
    },
    "microsoft": {
     "language": "python",
     "language_group": "synapse_pyspark"
    },
    "nteract": {
     "transient": {
      "deleting": false
     }
    }
   },
   "outputs": [],
   "source": [
    "#notebookutils.credentials.getSecret('https://<name>.vault.azure.net/', 'secret name')\n",
    "username = \"madhu.chilukuri@*********.com\"\n",
    "password = \"*****\"\n",
    "#ctx = convert_ctx_object(f'{site_url}',username,password)\n",
    "ctx=convert_ctx_object(site_url,username,password)\n",
    "#ctx = ClientContext(f'{site_url}').with_credentials(UserCredential(username, password))"
   ]
  },
  {
   "cell_type": "code",
   "execution_count": null,
   "id": "4da67b1e-51e4-4f8a-adee-4a5e1b483ae4",
   "metadata": {
    "jupyter": {
     "outputs_hidden": false,
     "source_hidden": false
    },
    "microsoft": {
     "language": "python",
     "language_group": "synapse_pyspark"
    },
    "nteract": {
     "transient": {
      "deleting": false
     }
    }
   },
   "outputs": [],
   "source": [
    "%run \\merge_excel_files"
   ]
  },
  {
   "cell_type": "code",
   "execution_count": null,
   "id": "22380543-6010-4005-8117-59957c52e41a",
   "metadata": {
    "collapsed": false,
    "jupyter": {
     "outputs_hidden": false,
     "source_hidden": false
    },
    "microsoft": {
     "language": "python",
     "language_group": "synapse_pyspark"
    },
    "nteract": {
     "transient": {
      "deleting": false
     }
    }
   },
   "outputs": [],
   "source": [
    "if logic=='write_to_sharepoint':\n",
    "    pandas_df=merge_df(common_substring,ctx,f'{folder_url}','Forecast',None)\n",
    "    #display(pandas_df)\n",
    "    write_to_sharepoint(pandas_df,'Multiple Long Term Forecast Template 20241212.csv',False)\n",
    "    print('WRITTEN TO SHAREPOINT')\n",
    "    "
   ]
  },
  {
   "cell_type": "code",
   "execution_count": null,
   "id": "e256d8e7-3e17-4b65-b7f3-dcfd72ff0e41",
   "metadata": {
    "jupyter": {
     "outputs_hidden": false,
     "source_hidden": false
    },
    "microsoft": {
     "language": "python",
     "language_group": "synapse_pyspark"
    },
    "nteract": {
     "transient": {
      "deleting": false
     }
    }
   },
   "outputs": [],
   "source": [
    "#call notebook with params\n",
    "\"\"\"\n",
    "notebookutils.notebook.run(\"merge_excel_files\", 200, \n",
    "{ \"site_url\":\"https://*********.sharepoint.com/sites/fabricdemo\",\n",
    "\"folder_url\":\"/sites/fabricdemo/Shared Documents\",\n",
    "\"document_library\":\"Shared Documents\",\n",
    "\"logic\":\"write_to_sharepoint\",\n",
    "\"common_substring\":f\"{common_substring}\",\n",
    "\"username\" : f\"{username}\",\n",
    "\"password\" : f\"{password}\"\n",
    " })\n",
    "\"\"\"\n"
   ]
  }
 ],
 "metadata": {
  "dependencies": {},
  "kernel_info": {
   "name": "synapse_pyspark"
  },
  "kernelspec": {
   "display_name": "synapse_pyspark",
   "name": "synapse_pyspark"
  },
  "language_info": {
   "name": "python"
  },
  "microsoft": {
   "language": "python",
   "language_group": "synapse_pyspark",
   "ms_spell_check": {
    "ms_spell_check_language": "en"
   }
  },
  "nteract": {
   "version": "nteract-front-end@1.0.0"
  },
  "spark_compute": {
   "compute_id": "/trident/default",
   "session_options": {
    "conf": {
     "spark.synapse.nbs.session.timeout": "7200000"
    }
   }
  },
  "synapse_widget": {
   "state": {},
   "version": "0.1"
  }
 },
 "nbformat": 4,
 "nbformat_minor": 5
}
